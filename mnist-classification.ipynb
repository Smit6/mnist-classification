{
 "cells": [
  {
   "cell_type": "markdown",
   "metadata": {},
   "source": [
    "# MNIST Classification\n",
    "#### Dataset : mnist_784\n",
    "- **Source** : sklearn.datasets -> fetch_openml('mnist_784', version = 1)\n",
    "- **Structure**\n",
    "    - DESCR key - Describes the dataset\n",
    "    - data key - Dataset features\n",
    "    - target key - Dataset labels\n",
    "- Dataset has 70000 images and 784 (28 x 28) features. Each instance (row) represents an image. each feature represents a pixel's intensity from 0 (white) to 255 (black).\n",
    "\n",
    "#### Objective\n",
    "- Build a classifier to predict label for the given features (28 x 28).\n",
    "\n",
    "#### Disclaimer\n",
    "<ul>This project is to use technics shown in the book - Hands On Ml 2. We will try to outperform the outcome of chapter 3 - Classification Machine Learning project. We will also be using code from Hands On Ml 2 github repository.</ul>\n",
    "\n",
    "## Table of Contents\n",
    "<ol>\n",
    "<li><a href = '#setup'>Setup</a></li>\n",
    "<li><a href = '#gather'>Gather</a></li>\n",
    "<li><a href = '#asses'>Asses</a></li>\n",
    "<li><a href = '#test'>Test set</a></li>\n",
    "<li><a href = '#visualize-analyze'>Visualize & Analyze</a></li>\n",
    "<li><a href = '#wrangle'>Data Wrangling</a></li>\n",
    "<li><a href = '#ml'>Machine Learning</a></li>\n",
    "<li><a href = '#conclusion'>Conclusion</a></li>\n",
    "</ol>"
   ]
  },
  {
   "cell_type": "markdown",
   "metadata": {},
   "source": [
    "<a id = 'setup'></a>\n",
    "### 1. Setup"
   ]
  },
  {
   "cell_type": "code",
   "execution_count": 1,
   "metadata": {},
   "outputs": [],
   "source": [
    "# Python ≥ 3.5 is required\n",
    "import sys\n",
    "assert sys.version_info >= (3, 5)\n",
    "\n",
    "# Scikit-Learn ≥0.20 is required\n",
    "import sklearn\n",
    "assert sklearn.__version__ >= '0.20'\n",
    "\n",
    "# Common imports\n",
    "import numpy as np\n",
    "import pandas as pd\n",
    "import os\n",
    "\n",
    "# To plot pretty figures\n",
    "%matplotlib inline\n",
    "import matplotlib as mpl\n",
    "import matplotlib.pyplot as plt\n",
    "mpl.rc('axes', labelsize = 14)\n",
    "mpl.rc('xtick', labelsize = 12)\n",
    "mpl.rc('ytick', labelsize = 12)\n",
    "\n",
    "# Where to save the figures\n",
    "PROJECT_ROOT_DIR = '.'\n",
    "IMAGES_PATH = os.path.join(PROJECT_ROOT_DIR, 'images')\n",
    "os.makedirs(IMAGES_PATH, exist_ok = True)\n",
    "\n",
    "def save_fig(fig_id, tight_layout = True, fig_extension = 'png', resolution = 300):\n",
    "    path = os.path.join(IMAGES_PATH, fig_id + '.' + fig_extension)\n",
    "    print('Saving figure', fig_id)\n",
    "    if tight_layout:\n",
    "        plt.tight_layout()\n",
    "    plt.savefig(path, format = fig_extension, dpi = resolution)"
   ]
  },
  {
   "cell_type": "markdown",
   "metadata": {},
   "source": [
    "<a id = 'gather'></a>\n",
    "### 2. Gather"
   ]
  },
  {
   "cell_type": "code",
   "execution_count": 2,
   "metadata": {},
   "outputs": [
    {
     "data": {
      "text/plain": [
       "dict_keys(['data', 'target', 'frame', 'categories', 'feature_names', 'target_names', 'DESCR', 'details', 'url'])"
      ]
     },
     "execution_count": 2,
     "metadata": {},
     "output_type": "execute_result"
    }
   ],
   "source": [
    "from sklearn.datasets import fetch_openml\n",
    "mnist = fetch_openml('mnist_784', version = 1, as_frame = False)\n",
    "mnist.keys()"
   ]
  }
 ],
 "metadata": {
  "kernelspec": {
   "display_name": "Python 3",
   "language": "python",
   "name": "python3"
  },
  "language_info": {
   "codemirror_mode": {
    "name": "ipython",
    "version": 3
   },
   "file_extension": ".py",
   "mimetype": "text/x-python",
   "name": "python",
   "nbconvert_exporter": "python",
   "pygments_lexer": "ipython3",
   "version": "3.8.3"
  }
 },
 "nbformat": 4,
 "nbformat_minor": 4
}
